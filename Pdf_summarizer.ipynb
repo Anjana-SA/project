{
  "nbformat": 4,
  "nbformat_minor": 0,
  "metadata": {
    "colab": {
      "provenance": [],
      "gpuType": "T4"
    },
    "kernelspec": {
      "name": "python3",
      "display_name": "Python 3"
    },
    "language_info": {
      "name": "python"
    },
    "accelerator": "GPU"
  },
  "cells": [
    {
      "cell_type": "code",
      "execution_count": null,
      "metadata": {
        "id": "lqlBQAWRuAbu",
        "colab": {
          "base_uri": "https://localhost:8080/"
        },
        "outputId": "42ed303f-aa81-49c2-8b4f-4bc4eae1e8f0"
      },
      "outputs": [
        {
          "output_type": "stream",
          "name": "stdout",
          "text": [
            "Requirement already satisfied: pypdf2 in /usr/local/lib/python3.10/dist-packages (3.0.1)\n",
            "Requirement already satisfied: transformers in /usr/local/lib/python3.10/dist-packages (4.34.0)\n",
            "Requirement already satisfied: filelock in /usr/local/lib/python3.10/dist-packages (from transformers) (3.12.4)\n",
            "Requirement already satisfied: huggingface-hub<1.0,>=0.16.4 in /usr/local/lib/python3.10/dist-packages (from transformers) (0.17.3)\n",
            "Requirement already satisfied: numpy>=1.17 in /usr/local/lib/python3.10/dist-packages (from transformers) (1.23.5)\n",
            "Requirement already satisfied: packaging>=20.0 in /usr/local/lib/python3.10/dist-packages (from transformers) (23.2)\n",
            "Requirement already satisfied: pyyaml>=5.1 in /usr/local/lib/python3.10/dist-packages (from transformers) (6.0.1)\n",
            "Requirement already satisfied: regex!=2019.12.17 in /usr/local/lib/python3.10/dist-packages (from transformers) (2023.6.3)\n",
            "Requirement already satisfied: requests in /usr/local/lib/python3.10/dist-packages (from transformers) (2.31.0)\n",
            "Requirement already satisfied: tokenizers<0.15,>=0.14 in /usr/local/lib/python3.10/dist-packages (from transformers) (0.14.1)\n",
            "Requirement already satisfied: safetensors>=0.3.1 in /usr/local/lib/python3.10/dist-packages (from transformers) (0.4.0)\n",
            "Requirement already satisfied: tqdm>=4.27 in /usr/local/lib/python3.10/dist-packages (from transformers) (4.66.1)\n",
            "Requirement already satisfied: fsspec in /usr/local/lib/python3.10/dist-packages (from huggingface-hub<1.0,>=0.16.4->transformers) (2023.6.0)\n",
            "Requirement already satisfied: typing-extensions>=3.7.4.3 in /usr/local/lib/python3.10/dist-packages (from huggingface-hub<1.0,>=0.16.4->transformers) (4.5.0)\n",
            "Requirement already satisfied: charset-normalizer<4,>=2 in /usr/local/lib/python3.10/dist-packages (from requests->transformers) (3.3.0)\n",
            "Requirement already satisfied: idna<4,>=2.5 in /usr/local/lib/python3.10/dist-packages (from requests->transformers) (3.4)\n",
            "Requirement already satisfied: urllib3<3,>=1.21.1 in /usr/local/lib/python3.10/dist-packages (from requests->transformers) (2.0.6)\n",
            "Requirement already satisfied: certifi>=2017.4.17 in /usr/local/lib/python3.10/dist-packages (from requests->transformers) (2023.7.22)\n",
            "Requirement already satisfied: torch in /usr/local/lib/python3.10/dist-packages (2.0.1+cu118)\n",
            "Requirement already satisfied: filelock in /usr/local/lib/python3.10/dist-packages (from torch) (3.12.4)\n",
            "Requirement already satisfied: typing-extensions in /usr/local/lib/python3.10/dist-packages (from torch) (4.5.0)\n",
            "Requirement already satisfied: sympy in /usr/local/lib/python3.10/dist-packages (from torch) (1.12)\n",
            "Requirement already satisfied: networkx in /usr/local/lib/python3.10/dist-packages (from torch) (3.1)\n",
            "Requirement already satisfied: jinja2 in /usr/local/lib/python3.10/dist-packages (from torch) (3.1.2)\n",
            "Requirement already satisfied: triton==2.0.0 in /usr/local/lib/python3.10/dist-packages (from torch) (2.0.0)\n",
            "Requirement already satisfied: cmake in /usr/local/lib/python3.10/dist-packages (from triton==2.0.0->torch) (3.27.6)\n",
            "Requirement already satisfied: lit in /usr/local/lib/python3.10/dist-packages (from triton==2.0.0->torch) (17.0.2)\n",
            "Requirement already satisfied: MarkupSafe>=2.0 in /usr/local/lib/python3.10/dist-packages (from jinja2->torch) (2.1.3)\n",
            "Requirement already satisfied: mpmath>=0.19 in /usr/local/lib/python3.10/dist-packages (from sympy->torch) (1.3.0)\n"
          ]
        }
      ],
      "source": [
        "!pip install pypdf2\n",
        "!pip install transformers\n",
        "!pip install torch"
      ]
    },
    {
      "cell_type": "code",
      "source": [
        "from PyPDF2 import PdfReader\n",
        "import nltk\n",
        "nltk.download('punkt')\n",
        "from nltk.tokenize import word_tokenize\n",
        "import re\n",
        "from string import punctuation\n",
        "from transformers import BartForConditionalGeneration, BartTokenizer\n",
        "import torch\n",
        "import unicodedata"
      ],
      "metadata": {
        "id": "ep8qEHJzuGko",
        "colab": {
          "base_uri": "https://localhost:8080/"
        },
        "outputId": "c946d8ed-8e71-43ad-e317-4da051deb15a"
      },
      "execution_count": null,
      "outputs": [
        {
          "output_type": "stream",
          "name": "stderr",
          "text": [
            "[nltk_data] Downloading package punkt to /root/nltk_data...\n",
            "[nltk_data]   Package punkt is already up-to-date!\n"
          ]
        }
      ]
    },
    {
      "cell_type": "code",
      "source": [
        "model = BartForConditionalGeneration.from_pretrained('facebook/bart-large-cnn')\n",
        "tokenizer = BartTokenizer.from_pretrained('facebook/bart-large-cnn')\n",
        "reader = PdfReader('W5 ETK Notes.pdf')\n",
        "text = []\n",
        "for page in reader.pages:\n",
        "  text.append(nltk.sent_tokenize(page.extract_text()))"
      ],
      "metadata": {
        "id": "4NejSI6bgk5Y"
      },
      "execution_count": null,
      "outputs": []
    },
    {
      "cell_type": "code",
      "source": [
        "split_text=[]\n",
        "for i in text:\n",
        "  for j in i:\n",
        "    split_text.append(j)"
      ],
      "metadata": {
        "id": "qIEBhmezY9qv"
      },
      "execution_count": null,
      "outputs": []
    },
    {
      "cell_type": "code",
      "source": [
        "def cleanup(text):\n",
        "  ltext=text.lower()\n",
        "  ltext = re.sub(f\"[{re.escape(punctuation)}]\", \"\", ltext)\n",
        "  ltext = \" \".join(ltext.split())\n",
        "  remove_chars=['’', ',','‘','•','”','“','—']\n",
        "  for i in remove_chars:\n",
        "    ltext=ltext.replace(i, '')\n",
        "  clean_text = \" \".join(ltext.split())\n",
        "\n",
        "  cl_text=clean_text.split()\n",
        "  la=\"\"\n",
        "  for i in cl_text:\n",
        "    la+=i+\" \"\n",
        "  laa=\"\"\n",
        "  laa+=\"\".join([char for char in la if not unicodedata.category(char) == 'Co'])\n",
        "  return laa\n",
        "chunk_list=[]\n",
        "generated_summaries = []\n",
        "for i in split_text:\n",
        "  cleaned_text=cleanup(i)\n",
        "  chunk_list.append(cleaned_text)"
      ],
      "metadata": {
        "id": "29cbvyiskEI2"
      },
      "execution_count": null,
      "outputs": []
    },
    {
      "cell_type": "code",
      "source": [
        "length=0\n",
        "nested_list=[]\n",
        "sent_list=[]\n",
        "generated_summaries = []\n",
        "for i in chunk_list:\n",
        "  length+=len(i)\n",
        "  if length<1024:\n",
        "    sent_list.append(i)\n",
        "  else:\n",
        "    nested_list.append(sent_list)\n",
        "    sent_list=[i]\n",
        "    length=0\n",
        "if sent_list:\n",
        "  nested_list.append(sent_list)"
      ],
      "metadata": {
        "id": "ADdkqclVeOg8"
      },
      "execution_count": null,
      "outputs": []
    },
    {
      "cell_type": "code",
      "source": [
        "torch_device = 'cuda'\n",
        "generated_summaries = []\n",
        "\n",
        "for i in nested_list:\n",
        "    inputs = tokenizer(' '.join(i), max_length=1000, return_tensors='pt', truncation=True).to(torch_device)\n",
        "    inputs = {key: val.to(torch_device) for key, val in inputs.items()}\n",
        "    summary_ids = model.to(torch_device).generate(inputs['input_ids'])\n",
        "\n",
        "    summary = [tokenizer.decode(g, skip_special_tokens=True, clean_up_tokenization_spaces=False) for g in summary_ids]\n",
        "    generated_summaries.append(summary)\n"
      ],
      "metadata": {
        "id": "nI8xVy5uTuI5"
      },
      "execution_count": null,
      "outputs": []
    },
    {
      "cell_type": "code",
      "source": [
        "generated_summaries"
      ],
      "metadata": {
        "id": "ol2JEFMY86hp",
        "colab": {
          "base_uri": "https://localhost:8080/"
        },
        "outputId": "abf47f8b-6aa2-4ed7-a07f-efcfbacbc293"
      },
      "execution_count": null,
      "outputs": [
        {
          "output_type": "execute_result",
          "data": {
            "text/plain": [
              "[['hello learners in this session we are going to discuss on the indian music and its divisions. The three art forms music dance and drama have been an integral aspects of indian culture art reflects human emotions and human beings spontaneously express their frame of mind through various art forms  singing dancing acting are attributes of performing arts.'],\n",
              " ['The earliest text dealing exclusively with performing arts is bharata s natyashashtra compiled between second century bc and second century ad. Many rulers such as samudragupta king bhoja of dhara and king someshavra of kalyana patronised music. Music was also associated with the worship of gods and goddess in the temples.'],\n",
              " ['The musicians of hindustani classical music are usually associated to a gharana or a particular style of music. gharanas refer to hereditary linkages of musicians which represent the core of the style and distinguish them from the other. The most famous are sitar sarod santoor, sarangi, pakhawaj tabla and mridangam.'],\n",
              " ['Carnatic music may be attributed collectively to three composers who lived between 1700 and 1850. The main compositions are known as kriti and are devotional in nature. Despite contrasting features between hindustani and carnatic music one can find some similarities. modern indian music with the british rule came western music  indians adopted some of their instruments such as violin and clarinet.'],\n",
              " ['music education no longer depends on the masterdisciple system but can be imparted through institutions teaching music  folk music besides classical music india has a rich legacy of folk or popular music  this music represents the emotion of the masses. We will discuss on the indian dance and drama dances of india like music.'],\n",
              " ['Dance was to give symbolic expression to religious ideas. Dance in temples had a religious objective whereas in courts it was used purely for entertainment. Classical dance forms like kathakali bharatnatyam and odishi are an important part of our cultural heritage. For the artists devoted to this art form it was no less than praying to god.'],\n",
              " ['in southern india bharatanatyam and mohiniattam developed as an important aspect of the rituals in temples. folk dances evolved from the lives of common people and were performed in unison. in the last few decades the status of dance as well as its performers has changed.'],\n",
              " ['several renowned classical dancers have been awarded national awards like the padmashree. indigenous tradition as well as modern research trace the origin of indian drama to the vedas. In the ramayana we hear of drama troupes of women while kautilyas arthshastra mentions musicians dancers and dramatic shows.'],\n",
              " ['Drama achieved a great level of perfection during the age of bharata. Short skits and long plays were enacted to preach and educate the masses. Music and dance also played a vital role in increasing the appeal of drama. Two types developed the classic drama which had intricacies of theme and subtle nuances of dramatic traits and folk theatre.'],\n",
              " ['Folk theatre emerged during british rule. It began as an outlet to vent frustration against the rulers. It became the medium through which various socioeconomic issues like secularism nationalism and casteism were highlighted. The very nature of music dance and drama elevates human soul and creates a pleasant atmosphere.'],\n",
              " ['Indians like people in other parts of the world have a rich tradition of scientific ideas. The urge to know the unknown along with experimentation and observation has always produced a scientific temper. This has led to the idea that truth may be found in the real world with all of its diversity and complexities.'],\n",
              " ['development of science and technology in ancient india ganita is the broad word for mathematics which covers arithmetic geometry algebra astronomy and astrology. india has a rich scientific and technological background  science advancements may be able to alleviate our reliance on nature. religion and science collaborated closely in ancientindia.'],\n",
              " ['mathematics harappas urban planning demonstrates that the residents were wellversed in measurement and geometry by the third century ad mathematics had evolved into a distinct field of study. The sulvasutras are thought to be the source of indian mathematics  in the second century bc zero was found in india.'],\n",
              " ['metallurgy by the first century ad mass manufacturing of metals such as iron copper silver and gold as well as alloys such as brass and bronze was underway. alkali and acids were created and used to make medications  this process was also employed in other crafts such as dyeing and colouring  dyeing textiles was popular.'],\n",
              " ['development of science and technology in medieval india during the medieval era the eleventh to the seventeenth centuries. Science and technology progressed along two lines one concerned with the previously defined trajectory of earlier traditions and the other with new influences that emerged as a result of islamic and european influence. There were maktabs and madrasas that followed a fixed curriculum.'],\n",
              " ['attempts were made to achieve a form of synthesis between indian traditional scientific culture and the prevalent scientific approach in other nations. mathematics brahmagupta the renowned 7th century mathematician described negative numbers as debts and positive numbers as riches demonstrating that ancient bharatiyas recognised the use of mathematics in practical trade. chemistry the mughals were wellversed in the manufacturing of gunpowder and its application in firearms.'],\n",
              " ['firoz shah bahmani established an observatory in daulatabad under the supervision of hakim hussain gilani and syed muhammad kazimi. cotton sugarcane and indigo were the main crops. western ghats continued to produce highquality black pepper and kashmir retained its saffron and fruit traditions.'],\n",
              " ['The government of india has recognised the importance of science and technology in national growth. The second five year plan emphasised that the communitys readiness to apply modern technology is the most significant single component in supporting economic development. The department of research and technology was established in 1971 to encourage new areas ofScience and technology.'],\n",
              " ['The government of india has continually attempted to utilise modern science and technology for economic development. icar has played an important role in the scientific education of farmers as well as those involved in agriculture animal husbandry fisheries and forestry. The bhabha atomic research centre barc was established in trombay in 1957.'],\n",
              " ['The Indian space programme is aimed at achieving selfsufficiency in the utilisation of space technology for national development. The first launch of aryabhatta an indian space satellite was launched in 1975. The treatment of diseases such as tuberculosis malaria filaria goitre and cancer has improved significantly.'],\n",
              " ['India is the inheritor of one of the oldest and most evolved musical systems in the world. Its music is considered as the oldest unbroken musical tradition with the most intricate musical system that contains highly developed polyrhythms delicate nuances ornamentation and microtones. The study of indian music begins with the religious and philosophical beliefs of its culture.'],\n",
              " ['The music of india includes multiple varieties of folk popular pop classical music and rb  indias classical music tradition including carnatic and hindustani music has a history spanning millennia and developed over several eras it remains fundamental to the lives of indians today as sources of spiritual inspiration cultural expression and pure entertainment.'],\n",
              " ['The basis of carnatic music is the system of ragas melodic scales and talas rhythmic cycles. tyagaraja muthuswami dikshitar and shyama shastri the three saint composers of the 19th century have composed thousands of krithis that remain fresh among musicians and rasikas.'],\n",
              " ['Hindustani music style is mainly found in north india pakistan and bangladesh.It exists in four major formsdhrupad khyal or khayal thumri and tappa.these are abbreviations of the real names of swaras which are shadjam rishabham gandharam madhyamam panchamam dhaivatam.'],\n",
              " ['dhrupad is solemn music uplifting and heroic pure and spiritual. thumri goes one step further in their brevity and are graceful songs. khayal prominent in last 200 years most widely sung form of classical music heavy on virtuosic improvisations.'],\n",
              " ['dhrupadkhayal thumri semiclassical romantic songs to krishna famous in lucknowvaranasi area. ghazal indopersianarabic poetry songs with theme of separation and love. rabindrasangeet nazrulgeeti bengali language music of rabindranath tagore.'],\n",
              " ['Vocal music in india is a way to express deep devotion to god. It is manifested through the art of vocalization which becomes more than just a vocal warmup but an act of worship. Most notable songs of north india are dhun or kirtan for hindus and bhajan  shabad for sikho.'],\n",
              " ['there are not only a large variety of musical instruments but also different categories corresponding to the octaves and types of male and female voice  in vocal music. We have the form of abstract alap dhrupa music kheyal music tappa music thumri music devotional music regional music a wideranging variety of folk music and so on and so forth.'],\n",
              " ['it literally means claybody and was originally made of clay  it is a doubleheaded drum that is barrel shaped and is played between the thighs of the drum players. udukkai is an hourglass shaped membranous drum used in devotional and folk music throughout india. thavil is a percussion instrument used for accompanying the nadaswaram a wind instrument used in hidu religious music.'],\n",
              " ['Sarangi the most popular stringed instrument at is used to accompany vocal music. i t is shaped like a squashed guitar and is made from a block of hollowedout wood that is covered with parchment. This instrument has no frets and is played with a bow. saringda a bowed fiddle similar to sarangi  it as either a round or pointed head.'],\n",
              " ['violin in carnatic music the tuning is the same. The tuning is slightly modified for the hindustani violin but the playing style remains the same sitting cross legged on the floor with the scroll of the violin resting on the right foot of the player. tar shehnai is an esraj bowed string instrument with an added mechanical amplifier.'],\n",
              " ['dance simply started as man s own life for almost all occasions in whatever aspects as birth death healing of the sick asking for forgiveness war marriage were celebrated by dancing. There are dance that express thankfulness for a good harvest in celebration of religious festivities or just a mere pleasurable expression of the body. It uniquely intensifies different moods and emotions that somehow deepen everybody s feelings.'],\n",
              " ['it used as accompaniment that somehow motivates the dancer s movement  2  movement it refers to action of dances with the use of their bodies to create organized patterns. 3  theme it pertains to the content or main ingredient of the dance  it actually conveys the message of the Dance. 4  techniques it refers  to the skill in executing movement  as a dancer one needs to have a complete control over the muscles of herhis body for herhim to be said technically proficient. 5  design it refers\\xa0to the arrangement of movements according to pattern in time either fast or slow and space one s position in relation to his background. 6  properties and costume these contribute to the'],\n",
              " [\"they are symbolic in meaning that can t be understood easily by persons who don't belong to the ethnic group. 2  social dance these are popular type of dancing for pleasure as generally performed by pairs of groups of people following a definite step or pattern. Most of these have specific rhythms and coordinated with the movement and steps of the body hand foot and head. A  ballet its the ultimate expression of art in dance which originated in the royal courts during the middle ages.\"],\n",
              " [' modern dance is often characterized as something natural and free. Modern dance emerged as a form of a revolt against the strictness governing the old forms of dance. The major emphasis of this dance is on the expression through the dancer s execution. The movement of the dance is subject to definite of the body hands legs and others.'],\n",
              " ['The natya shastra written by baratha is considered to be the fifth vedaany of the oldest and most authoritative hindu sacred texts composed in sanskrit and gathered into four collections. This bharata natyam dancer s right hand is in the katakamukha hasta the 3 joined fingers symbolizing the sacred syllable aum. The left hand s fingers are in alapadma Hasta the rotating lotus of spiritual light.'],\n",
              " ['its present form is not more than 300 years old. this art demands complete control over every part of the body. kathakali draws heavily from drama utilizing elaborate masks and costumes. the stories or attakathas which are depicted via k Kathakali are selected from epics and mythologies. these are written in a highly sanskritised verse form in malayalam.'],\n",
              " ['2 mohiniyattam originated in kerala and is closely related to bharathanatyam. It portrays feminine love in its myriad forms – carnal devotional and maternal – with accent more on lasya and bhava. The language used in lyrics is a pleasant mixture of malayalam and sanskrit known as manipravalam.'],\n",
              " ['Kathak was performed by band of storytellers who were connected with temple   northern kathak. The dance focuses on rhythm mostly but also concentrates on erotic steps. has the characters sutra dhara conductor and the vidhushaka the jester.'],\n",
              " ['manipuri  very ritualistic – heavy on the folklore and mythology. costumes are colorful and bright  music is slow and rhythmic drums and cymbals are the main instruments. The dance was comprised of two dances lai haraoba and rasa leela. The former deals with the creation of the world and the latter deals with intimacy between krishna and his consort – radha.'],\n",
              " ['Htoi is going to introduce you to some of the top indian folk and tribal dance forms of india. These folk dances are full of vibrancy enthusiasm and energy. These dances have orginated from assam and are conducted during the bihu festival in assam.'],\n",
              " ['Bhortal dance assam is a classical indian dance form which was developed by famous satriya artist narahari burha bhakat. jhumur is basically known as a folkdance form which has originated from assam and now this dance form become very popular in bangladesh and eastern indian parts. This festival is conducted in barpeta district in assam every tear.'],\n",
              " ['bardo chham is a religious folk dance in arunachal pradesh. raut nacha is one of the most popular folkdance forms in chhattisgarh. ghotul dance is performed by a village community. Both of these dance forms imitate the lifestyle of lord krishna.'],\n",
              " ['fugdi goa this dance form basically originated from goa and people perform this dance during several festivals in goa. fugdi is basically performed during the month of bhaadrapada which is a special occasion for women. dandia raas gujarat this is a vibrant and popular dance form in india which originated from gujar at. this mainly represents the fight between hindu goddess durga and king mahishasura.'],\n",
              " [' garba is a traditional folk dance performed by women and women during the navaratri festival. You can also find some tribal dance forms in gujarat such as tippani dance and padhar dance. witness the lifestyle and local dances with gujarats tribal tour packages.'],\n",
              " ['nati himachal pradesh nati is one of the most traditional folk dances in india which is mainly originated from kullu district. This dance form is listed as largest folk dance in guinness book of world records in 2016. There are seven different forms of nati dances performed by himachali youth such as lahauli nati kinnauri sirmauri mahasuvi.'],\n",
              " ['You can also find some regional drama performances in mathura and brindavana in uttar pradesh during the krishna janmasthami and holi festivals which are conducted with the dance  dumhal jammu and kashmir this is a classical folk dance which is performed by the men only. chakyar koothu k Kerala this is one of the traditional hindu dances in india where performers narrate some hindu epic.'],\n",
              " [' margamkali kerala is a dance form which is conducted by the muslim community of kerala. This dance is mainly conducted during the festival time and marriage ceremony in k Kerala. margatnkali dance of k Kerala can be seen during all the small festivals in kerala and this is basically done by the women.'],\n",
              " ['the women relatives of the bride perform oppana and they celebrate the marriage by clapping around the bride during their dance. theyyam kerala it is a temple ritual dance form and also known as kaliyattam and this is a sacred dance form which is projected as hindu goddess kali.'],\n",
              " ['thirayattam kerala this is a purely fork art which is related to the famous temples situated in southern kerala. padyani means military foundation and during this dance performance people use to wear some colorful masks which is also called as kolams. matki dance madhya pradesh matki is a solo dance which is performed by the women only  women perform this dance during the wedding ceremony in their village. chang lo nagaland chang lo is also known as sua lua and it is a dance form performed by chang tribe in nagAland.'],\n",
              " ['You can see many local folk and tribal communities in mizoram who perform this dance during their festive sessions. Four people hold some bamboo sticks that are clapped together and the main dancer starts the performance in the center position of the group. Lavani is a combination of tribal dance and song where people used to dance on the beats of dholki. You can enjoy this energetic dance on central india tour.'],\n",
              " ['Parvi nach is popular tribal and folk dance in india. This dance is performed with some instrumental music. All of this music originated by some handmade musical instruments. You can find some bhangra dance shows in foreign countries like usa uk and canada.'],\n",
              " ['Malwai giddha  kikkli punjab two girls hold their hand and twirl each other in a circular position and they also lift their feet from the floor and synchronize the dance between two dancers. On the other part when male dancers perform the same dance it is generally renamed as malwai Giddha. Chhau dance odisha chhau is one of the most traditional and popular dance forms in india which is originated from nilagiri region.'],\n",
              " ['a boy who dresses up as a girl called as goti pua and this is an ancient indian dance from which was performed by the students of the akhadas. baagh naach odisha is a popular folk dance where you can find some ornamental presentation of male body and many musical instruments are associated with this dance form.'],\n",
              " ['dusserah is one of the biggest indian festivals and you can see this dalkhai dance in odisha during this festival. You can see the dame dance performance during bhaijintia phagun puni and nuakhai. This is a tribal dance which is performed by many tribal communities like kuda mirdha balangir sundargarh naupada.'],\n",
              " ['This dance is performed for the god and goddess named karam devta and karmas ani devi. The drum players use to stay in the center od these circles and they use to control the dancers with their rhythm. This dance is mainly performed during the festival in sambalpuri or the eleventh day of full moon.'],\n",
              " ['garadi puducherry this dance form has a mythological background and according to the hindu epic ramayana when god rama defeated ravana then the vanars or monkeys performed this dace as a symbol of victory. The female dancers perform this dance and they wear some long colorful skirt and rajasthani dresses during their performance.'],\n",
              " ['you can enjoy this royal dance with our royal rajasthan tour. This is one of the ancient tribal dance forms in raj asthan which is performed by the kalbelia community or snake charmers. The background music is basically done by been or folk instruments and dancers perform on the beats of these songs.'],\n",
              " ['This dance is commonly performed during community marriage ceremonies and dancers perform this dance to welcome the bridegroom s party on their marriage day. This is one of the oldest traditional folk dances in tamil nadu which is performed by trained dancers only. This dance performance is conducted several reasons such as for protecting animals encouraging farmers to do the better harvesting.'],\n",
              " ['this dance is basically conducted for ten days starting from the amavasi or new moon night after diwali. Most of the dancers from different villages and they also wear some colorful local dresses during their performance. mayil attam tamil nadu this is also known as peacock dance and dancers used to wear some dresses decorated with peacock feathers and they used to cover their head with glittering dress materials.'],\n",
              " ['men used to stand in a row and perform this dance according to the rhythm but due to huge popularity of these dancers shows now many women dancers also participate in these dance performances. This dance form was also known as a play of the tiger  in this dance form people used to act some tiger steps and their bodies are painted by yellow and black color and this is symbolized the replica of a tiger.'],\n",
              " ['Theru koothu tamil nadu is a traditional dance form conducted during the festivals of tamil badu villages. Through this dance performance they do some story telling dialogue rendering and sing some background songs. Most of the stories which are performed through this dance forms derived from hindi epics such as ramayana and mahabharata.'],\n",
              " ['hojagiri tripura is one of the oldest traditional dance forms of the reang community of tripura. During this dance they move their lower body and clap their feet on the earth. The colorful tamps and the ornaments and gorgeous dresses enrich this dance performance to some highest level.'],\n",
              " ['charukala uttar pradesh this is a traditional indian folk dance which mainly originated from brij region of uttar Pradesh. gamghira west bengal gambhira is a theatre cum folk dance performing art. singhi chaam sikkim is a mask dance which also presents the symbol of a state through the dance performance.'],\n",
              " ['this dance is dedicated to the guardian deity of sikkim guru padmasambhava and through this dance form people also represent their hill folks by wearing some furry costumes. keisabadi odisha is a folk dance in odisha which is performed by men only and they used to hold some long sticks and striking these sticks.'],\n",
              " ['This dance is conducted during the holi festival and semirural unmarried girls mainly perfrom this dance with some musical instruments  they dance to the rhythmical vibration of drums. The leader used to sing the main song which is called as kosli and people used to follow the rhythm and pronounce haido after stanza of the song.'],\n",
              " ['this dance from has three different phrases such as sela selabhadoni and selalarki. This dance from is known as the Sela Se Labhadoni Dance. It is performed in a variety of ways, such as in the Indian national anthems.']]"
            ]
          },
          "metadata": {},
          "execution_count": 8
        }
      ]
    },
    {
      "cell_type": "code",
      "source": [
        "summarizedText=\"\"\n",
        "for i in generated_summaries:\n",
        "  for j in i:\n",
        "    summarizedText+=j+\" \""
      ],
      "metadata": {
        "id": "VNkJI4Y1h7vJ"
      },
      "execution_count": null,
      "outputs": []
    },
    {
      "cell_type": "code",
      "source": [
        "summarizedText"
      ],
      "metadata": {
        "colab": {
          "base_uri": "https://localhost:8080/",
          "height": 191
        },
        "id": "S_157u-8j_ca",
        "outputId": "a8bc9e41-2b8c-4748-aa3d-ed067d87072f"
      },
      "execution_count": null,
      "outputs": [
        {
          "output_type": "execute_result",
          "data": {
            "text/plain": [
              "\"hello learners in this session we are going to discuss on the indian music and its divisions. The three art forms music dance and drama have been an integral aspects of indian culture art reflects human emotions and human beings spontaneously express their frame of mind through various art forms  singing dancing acting are attributes of performing arts. The earliest text dealing exclusively with performing arts is bharata s natyashashtra compiled between second century bc and second century ad. Many rulers such as samudragupta king bhoja of dhara and king someshavra of kalyana patronised music. Music was also associated with the worship of gods and goddess in the temples. The musicians of hindustani classical music are usually associated to a gharana or a particular style of music. gharanas refer to hereditary linkages of musicians which represent the core of the style and distinguish them from the other. The most famous are sitar sarod santoor, sarangi, pakhawaj tabla and mridangam. Carnatic music may be attributed collectively to three composers who lived between 1700 and 1850. The main compositions are known as kriti and are devotional in nature. Despite contrasting features between hindustani and carnatic music one can find some similarities. modern indian music with the british rule came western music  indians adopted some of their instruments such as violin and clarinet. music education no longer depends on the masterdisciple system but can be imparted through institutions teaching music  folk music besides classical music india has a rich legacy of folk or popular music  this music represents the emotion of the masses. We will discuss on the indian dance and drama dances of india like music. Dance was to give symbolic expression to religious ideas. Dance in temples had a religious objective whereas in courts it was used purely for entertainment. Classical dance forms like kathakali bharatnatyam and odishi are an important part of our cultural heritage. For the artists devoted to this art form it was no less than praying to god. in southern india bharatanatyam and mohiniattam developed as an important aspect of the rituals in temples. folk dances evolved from the lives of common people and were performed in unison. in the last few decades the status of dance as well as its performers has changed. several renowned classical dancers have been awarded national awards like the padmashree. indigenous tradition as well as modern research trace the origin of indian drama to the vedas. In the ramayana we hear of drama troupes of women while kautilyas arthshastra mentions musicians dancers and dramatic shows. Drama achieved a great level of perfection during the age of bharata. Short skits and long plays were enacted to preach and educate the masses. Music and dance also played a vital role in increasing the appeal of drama. Two types developed the classic drama which had intricacies of theme and subtle nuances of dramatic traits and folk theatre. Folk theatre emerged during british rule. It began as an outlet to vent frustration against the rulers. It became the medium through which various socioeconomic issues like secularism nationalism and casteism were highlighted. The very nature of music dance and drama elevates human soul and creates a pleasant atmosphere. Indians like people in other parts of the world have a rich tradition of scientific ideas. The urge to know the unknown along with experimentation and observation has always produced a scientific temper. This has led to the idea that truth may be found in the real world with all of its diversity and complexities. development of science and technology in ancient india ganita is the broad word for mathematics which covers arithmetic geometry algebra astronomy and astrology. india has a rich scientific and technological background  science advancements may be able to alleviate our reliance on nature. religion and science collaborated closely in ancientindia. mathematics harappas urban planning demonstrates that the residents were wellversed in measurement and geometry by the third century ad mathematics had evolved into a distinct field of study. The sulvasutras are thought to be the source of indian mathematics  in the second century bc zero was found in india. metallurgy by the first century ad mass manufacturing of metals such as iron copper silver and gold as well as alloys such as brass and bronze was underway. alkali and acids were created and used to make medications  this process was also employed in other crafts such as dyeing and colouring  dyeing textiles was popular. development of science and technology in medieval india during the medieval era the eleventh to the seventeenth centuries. Science and technology progressed along two lines one concerned with the previously defined trajectory of earlier traditions and the other with new influences that emerged as a result of islamic and european influence. There were maktabs and madrasas that followed a fixed curriculum. attempts were made to achieve a form of synthesis between indian traditional scientific culture and the prevalent scientific approach in other nations. mathematics brahmagupta the renowned 7th century mathematician described negative numbers as debts and positive numbers as riches demonstrating that ancient bharatiyas recognised the use of mathematics in practical trade. chemistry the mughals were wellversed in the manufacturing of gunpowder and its application in firearms. firoz shah bahmani established an observatory in daulatabad under the supervision of hakim hussain gilani and syed muhammad kazimi. cotton sugarcane and indigo were the main crops. western ghats continued to produce highquality black pepper and kashmir retained its saffron and fruit traditions. The government of india has recognised the importance of science and technology in national growth. The second five year plan emphasised that the communitys readiness to apply modern technology is the most significant single component in supporting economic development. The department of research and technology was established in 1971 to encourage new areas ofScience and technology. The government of india has continually attempted to utilise modern science and technology for economic development. icar has played an important role in the scientific education of farmers as well as those involved in agriculture animal husbandry fisheries and forestry. The bhabha atomic research centre barc was established in trombay in 1957. The Indian space programme is aimed at achieving selfsufficiency in the utilisation of space technology for national development. The first launch of aryabhatta an indian space satellite was launched in 1975. The treatment of diseases such as tuberculosis malaria filaria goitre and cancer has improved significantly. India is the inheritor of one of the oldest and most evolved musical systems in the world. Its music is considered as the oldest unbroken musical tradition with the most intricate musical system that contains highly developed polyrhythms delicate nuances ornamentation and microtones. The study of indian music begins with the religious and philosophical beliefs of its culture. The music of india includes multiple varieties of folk popular pop classical music and rb  indias classical music tradition including carnatic and hindustani music has a history spanning millennia and developed over several eras it remains fundamental to the lives of indians today as sources of spiritual inspiration cultural expression and pure entertainment. The basis of carnatic music is the system of ragas melodic scales and talas rhythmic cycles. tyagaraja muthuswami dikshitar and shyama shastri the three saint composers of the 19th century have composed thousands of krithis that remain fresh among musicians and rasikas. Hindustani music style is mainly found in north india pakistan and bangladesh.It exists in four major formsdhrupad khyal or khayal thumri and tappa.these are abbreviations of the real names of swaras which are shadjam rishabham gandharam madhyamam panchamam dhaivatam. dhrupad is solemn music uplifting and heroic pure and spiritual. thumri goes one step further in their brevity and are graceful songs. khayal prominent in last 200 years most widely sung form of classical music heavy on virtuosic improvisations. dhrupadkhayal thumri semiclassical romantic songs to krishna famous in lucknowvaranasi area. ghazal indopersianarabic poetry songs with theme of separation and love. rabindrasangeet nazrulgeeti bengali language music of rabindranath tagore. Vocal music in india is a way to express deep devotion to god. It is manifested through the art of vocalization which becomes more than just a vocal warmup but an act of worship. Most notable songs of north india are dhun or kirtan for hindus and bhajan  shabad for sikho. there are not only a large variety of musical instruments but also different categories corresponding to the octaves and types of male and female voice  in vocal music. We have the form of abstract alap dhrupa music kheyal music tappa music thumri music devotional music regional music a wideranging variety of folk music and so on and so forth. it literally means claybody and was originally made of clay  it is a doubleheaded drum that is barrel shaped and is played between the thighs of the drum players. udukkai is an hourglass shaped membranous drum used in devotional and folk music throughout india. thavil is a percussion instrument used for accompanying the nadaswaram a wind instrument used in hidu religious music. Sarangi the most popular stringed instrument at is used to accompany vocal music. i t is shaped like a squashed guitar and is made from a block of hollowedout wood that is covered with parchment. This instrument has no frets and is played with a bow. saringda a bowed fiddle similar to sarangi  it as either a round or pointed head. violin in carnatic music the tuning is the same. The tuning is slightly modified for the hindustani violin but the playing style remains the same sitting cross legged on the floor with the scroll of the violin resting on the right foot of the player. tar shehnai is an esraj bowed string instrument with an added mechanical amplifier. dance simply started as man s own life for almost all occasions in whatever aspects as birth death healing of the sick asking for forgiveness war marriage were celebrated by dancing. There are dance that express thankfulness for a good harvest in celebration of religious festivities or just a mere pleasurable expression of the body. It uniquely intensifies different moods and emotions that somehow deepen everybody s feelings. it used as accompaniment that somehow motivates the dancer s movement  2  movement it refers to action of dances with the use of their bodies to create organized patterns. 3  theme it pertains to the content or main ingredient of the dance  it actually conveys the message of the Dance. 4  techniques it refers  to the skill in executing movement  as a dancer one needs to have a complete control over the muscles of herhis body for herhim to be said technically proficient. 5  design it refers\\xa0to the arrangement of movements according to pattern in time either fast or slow and space one s position in relation to his background. 6  properties and costume these contribute to the they are symbolic in meaning that can t be understood easily by persons who don't belong to the ethnic group. 2  social dance these are popular type of dancing for pleasure as generally performed by pairs of groups of people following a definite step or pattern. Most of these have specific rhythms and coordinated with the movement and steps of the body hand foot and head. A  ballet its the ultimate expression of art in dance which originated in the royal courts during the middle ages.  modern dance is often characterized as something natural and free. Modern dance emerged as a form of a revolt against the strictness governing the old forms of dance. The major emphasis of this dance is on the expression through the dancer s execution. The movement of the dance is subject to definite of the body hands legs and others. The natya shastra written by baratha is considered to be the fifth vedaany of the oldest and most authoritative hindu sacred texts composed in sanskrit and gathered into four collections. This bharata natyam dancer s right hand is in the katakamukha hasta the 3 joined fingers symbolizing the sacred syllable aum. The left hand s fingers are in alapadma Hasta the rotating lotus of spiritual light. its present form is not more than 300 years old. this art demands complete control over every part of the body. kathakali draws heavily from drama utilizing elaborate masks and costumes. the stories or attakathas which are depicted via k Kathakali are selected from epics and mythologies. these are written in a highly sanskritised verse form in malayalam. 2 mohiniyattam originated in kerala and is closely related to bharathanatyam. It portrays feminine love in its myriad forms – carnal devotional and maternal – with accent more on lasya and bhava. The language used in lyrics is a pleasant mixture of malayalam and sanskrit known as manipravalam. Kathak was performed by band of storytellers who were connected with temple   northern kathak. The dance focuses on rhythm mostly but also concentrates on erotic steps. has the characters sutra dhara conductor and the vidhushaka the jester. manipuri  very ritualistic – heavy on the folklore and mythology. costumes are colorful and bright  music is slow and rhythmic drums and cymbals are the main instruments. The dance was comprised of two dances lai haraoba and rasa leela. The former deals with the creation of the world and the latter deals with intimacy between krishna and his consort – radha. Htoi is going to introduce you to some of the top indian folk and tribal dance forms of india. These folk dances are full of vibrancy enthusiasm and energy. These dances have orginated from assam and are conducted during the bihu festival in assam. Bhortal dance assam is a classical indian dance form which was developed by famous satriya artist narahari burha bhakat. jhumur is basically known as a folkdance form which has originated from assam and now this dance form become very popular in bangladesh and eastern indian parts. This festival is conducted in barpeta district in assam every tear. bardo chham is a religious folk dance in arunachal pradesh. raut nacha is one of the most popular folkdance forms in chhattisgarh. ghotul dance is performed by a village community. Both of these dance forms imitate the lifestyle of lord krishna. fugdi goa this dance form basically originated from goa and people perform this dance during several festivals in goa. fugdi is basically performed during the month of bhaadrapada which is a special occasion for women. dandia raas gujarat this is a vibrant and popular dance form in india which originated from gujar at. this mainly represents the fight between hindu goddess durga and king mahishasura.  garba is a traditional folk dance performed by women and women during the navaratri festival. You can also find some tribal dance forms in gujarat such as tippani dance and padhar dance. witness the lifestyle and local dances with gujarats tribal tour packages. nati himachal pradesh nati is one of the most traditional folk dances in india which is mainly originated from kullu district. This dance form is listed as largest folk dance in guinness book of world records in 2016. There are seven different forms of nati dances performed by himachali youth such as lahauli nati kinnauri sirmauri mahasuvi. You can also find some regional drama performances in mathura and brindavana in uttar pradesh during the krishna janmasthami and holi festivals which are conducted with the dance  dumhal jammu and kashmir this is a classical folk dance which is performed by the men only. chakyar koothu k Kerala this is one of the traditional hindu dances in india where performers narrate some hindu epic.  margamkali kerala is a dance form which is conducted by the muslim community of kerala. This dance is mainly conducted during the festival time and marriage ceremony in k Kerala. margatnkali dance of k Kerala can be seen during all the small festivals in kerala and this is basically done by the women. the women relatives of the bride perform oppana and they celebrate the marriage by clapping around the bride during their dance. theyyam kerala it is a temple ritual dance form and also known as kaliyattam and this is a sacred dance form which is projected as hindu goddess kali. thirayattam kerala this is a purely fork art which is related to the famous temples situated in southern kerala. padyani means military foundation and during this dance performance people use to wear some colorful masks which is also called as kolams. matki dance madhya pradesh matki is a solo dance which is performed by the women only  women perform this dance during the wedding ceremony in their village. chang lo nagaland chang lo is also known as sua lua and it is a dance form performed by chang tribe in nagAland. You can see many local folk and tribal communities in mizoram who perform this dance during their festive sessions. Four people hold some bamboo sticks that are clapped together and the main dancer starts the performance in the center position of the group. Lavani is a combination of tribal dance and song where people used to dance on the beats of dholki. You can enjoy this energetic dance on central india tour. Parvi nach is popular tribal and folk dance in india. This dance is performed with some instrumental music. All of this music originated by some handmade musical instruments. You can find some bhangra dance shows in foreign countries like usa uk and canada. Malwai giddha  kikkli punjab two girls hold their hand and twirl each other in a circular position and they also lift their feet from the floor and synchronize the dance between two dancers. On the other part when male dancers perform the same dance it is generally renamed as malwai Giddha. Chhau dance odisha chhau is one of the most traditional and popular dance forms in india which is originated from nilagiri region. a boy who dresses up as a girl called as goti pua and this is an ancient indian dance from which was performed by the students of the akhadas. baagh naach odisha is a popular folk dance where you can find some ornamental presentation of male body and many musical instruments are associated with this dance form. dusserah is one of the biggest indian festivals and you can see this dalkhai dance in odisha during this festival. You can see the dame dance performance during bhaijintia phagun puni and nuakhai. This is a tribal dance which is performed by many tribal communities like kuda mirdha balangir sundargarh naupada. This dance is performed for the god and goddess named karam devta and karmas ani devi. The drum players use to stay in the center od these circles and they use to control the dancers with their rhythm. This dance is mainly performed during the festival in sambalpuri or the eleventh day of full moon. garadi puducherry this dance form has a mythological background and according to the hindu epic ramayana when god rama defeated ravana then the vanars or monkeys performed this dace as a symbol of victory. The female dancers perform this dance and they wear some long colorful skirt and rajasthani dresses during their performance. you can enjoy this royal dance with our royal rajasthan tour. This is one of the ancient tribal dance forms in raj asthan which is performed by the kalbelia community or snake charmers. The background music is basically done by been or folk instruments and dancers perform on the beats of these songs. This dance is commonly performed during community marriage ceremonies and dancers perform this dance to welcome the bridegroom s party on their marriage day. This is one of the oldest traditional folk dances in tamil nadu which is performed by trained dancers only. This dance performance is conducted several reasons such as for protecting animals encouraging farmers to do the better harvesting. this dance is basically conducted for ten days starting from the amavasi or new moon night after diwali. Most of the dancers from different villages and they also wear some colorful local dresses during their performance. mayil attam tamil nadu this is also known as peacock dance and dancers used to wear some dresses decorated with peacock feathers and they used to cover their head with glittering dress materials. men used to stand in a row and perform this dance according to the rhythm but due to huge popularity of these dancers shows now many women dancers also participate in these dance performances. This dance form was also known as a play of the tiger  in this dance form people used to act some tiger steps and their bodies are painted by yellow and black color and this is symbolized the replica of a tiger. Theru koothu tamil nadu is a traditional dance form conducted during the festivals of tamil badu villages. Through this dance performance they do some story telling dialogue rendering and sing some background songs. Most of the stories which are performed through this dance forms derived from hindi epics such as ramayana and mahabharata. hojagiri tripura is one of the oldest traditional dance forms of the reang community of tripura. During this dance they move their lower body and clap their feet on the earth. The colorful tamps and the ornaments and gorgeous dresses enrich this dance performance to some highest level. charukala uttar pradesh this is a traditional indian folk dance which mainly originated from brij region of uttar Pradesh. gamghira west bengal gambhira is a theatre cum folk dance performing art. singhi chaam sikkim is a mask dance which also presents the symbol of a state through the dance performance. this dance is dedicated to the guardian deity of sikkim guru padmasambhava and through this dance form people also represent their hill folks by wearing some furry costumes. keisabadi odisha is a folk dance in odisha which is performed by men only and they used to hold some long sticks and striking these sticks. This dance is conducted during the holi festival and semirural unmarried girls mainly perfrom this dance with some musical instruments  they dance to the rhythmical vibration of drums. The leader used to sing the main song which is called as kosli and people used to follow the rhythm and pronounce haido after stanza of the song. this dance from has three different phrases such as sela selabhadoni and selalarki. This dance from is known as the Sela Se Labhadoni Dance. It is performed in a variety of ways, such as in the Indian national anthems. \""
            ],
            "application/vnd.google.colaboratory.intrinsic+json": {
              "type": "string"
            }
          },
          "metadata": {},
          "execution_count": 10
        }
      ]
    }
  ]
}